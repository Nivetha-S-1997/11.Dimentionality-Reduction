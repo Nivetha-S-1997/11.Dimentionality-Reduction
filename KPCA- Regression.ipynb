{
 "cells": [
  {
   "cell_type": "code",
   "execution_count": 1,
   "id": "95c78384-8009-439b-8df4-a12f391576f5",
   "metadata": {},
   "outputs": [],
   "source": [
    "import pandas as pd\n",
    "from sklearn.linear_model import LinearRegression\n",
    "from sklearn.svm import SVR\n",
    "from sklearn.tree import DecisionTreeRegressor\n",
    "from sklearn.ensemble import RandomForestRegressor\n",
    "from sklearn.metrics import r2_score"
   ]
  },
  {
   "cell_type": "code",
   "execution_count": 2,
   "id": "18d6dad2-df57-4fa1-8abe-d52b0b50a616",
   "metadata": {},
   "outputs": [
    {
     "data": {
      "text/html": [
       "<div>\n",
       "<style scoped>\n",
       "    .dataframe tbody tr th:only-of-type {\n",
       "        vertical-align: middle;\n",
       "    }\n",
       "\n",
       "    .dataframe tbody tr th {\n",
       "        vertical-align: top;\n",
       "    }\n",
       "\n",
       "    .dataframe thead th {\n",
       "        text-align: right;\n",
       "    }\n",
       "</style>\n",
       "<table border=\"1\" class=\"dataframe\">\n",
       "  <thead>\n",
       "    <tr style=\"text-align: right;\">\n",
       "      <th></th>\n",
       "      <th>Age</th>\n",
       "      <th>EstimatedSalary</th>\n",
       "      <th>Purchased</th>\n",
       "      <th>Gender_Male</th>\n",
       "    </tr>\n",
       "  </thead>\n",
       "  <tbody>\n",
       "    <tr>\n",
       "      <th>0</th>\n",
       "      <td>19</td>\n",
       "      <td>19000</td>\n",
       "      <td>0</td>\n",
       "      <td>True</td>\n",
       "    </tr>\n",
       "    <tr>\n",
       "      <th>1</th>\n",
       "      <td>35</td>\n",
       "      <td>20000</td>\n",
       "      <td>0</td>\n",
       "      <td>True</td>\n",
       "    </tr>\n",
       "    <tr>\n",
       "      <th>2</th>\n",
       "      <td>26</td>\n",
       "      <td>43000</td>\n",
       "      <td>0</td>\n",
       "      <td>False</td>\n",
       "    </tr>\n",
       "    <tr>\n",
       "      <th>3</th>\n",
       "      <td>27</td>\n",
       "      <td>57000</td>\n",
       "      <td>0</td>\n",
       "      <td>False</td>\n",
       "    </tr>\n",
       "    <tr>\n",
       "      <th>4</th>\n",
       "      <td>19</td>\n",
       "      <td>76000</td>\n",
       "      <td>0</td>\n",
       "      <td>True</td>\n",
       "    </tr>\n",
       "    <tr>\n",
       "      <th>...</th>\n",
       "      <td>...</td>\n",
       "      <td>...</td>\n",
       "      <td>...</td>\n",
       "      <td>...</td>\n",
       "    </tr>\n",
       "    <tr>\n",
       "      <th>395</th>\n",
       "      <td>46</td>\n",
       "      <td>41000</td>\n",
       "      <td>1</td>\n",
       "      <td>False</td>\n",
       "    </tr>\n",
       "    <tr>\n",
       "      <th>396</th>\n",
       "      <td>51</td>\n",
       "      <td>23000</td>\n",
       "      <td>1</td>\n",
       "      <td>True</td>\n",
       "    </tr>\n",
       "    <tr>\n",
       "      <th>397</th>\n",
       "      <td>50</td>\n",
       "      <td>20000</td>\n",
       "      <td>1</td>\n",
       "      <td>False</td>\n",
       "    </tr>\n",
       "    <tr>\n",
       "      <th>398</th>\n",
       "      <td>36</td>\n",
       "      <td>33000</td>\n",
       "      <td>0</td>\n",
       "      <td>True</td>\n",
       "    </tr>\n",
       "    <tr>\n",
       "      <th>399</th>\n",
       "      <td>49</td>\n",
       "      <td>36000</td>\n",
       "      <td>1</td>\n",
       "      <td>False</td>\n",
       "    </tr>\n",
       "  </tbody>\n",
       "</table>\n",
       "<p>400 rows × 4 columns</p>\n",
       "</div>"
      ],
      "text/plain": [
       "     Age  EstimatedSalary  Purchased  Gender_Male\n",
       "0     19            19000          0         True\n",
       "1     35            20000          0         True\n",
       "2     26            43000          0        False\n",
       "3     27            57000          0        False\n",
       "4     19            76000          0         True\n",
       "..   ...              ...        ...          ...\n",
       "395   46            41000          1        False\n",
       "396   51            23000          1         True\n",
       "397   50            20000          1        False\n",
       "398   36            33000          0         True\n",
       "399   49            36000          1        False\n",
       "\n",
       "[400 rows x 4 columns]"
      ]
     },
     "execution_count": 2,
     "metadata": {},
     "output_type": "execute_result"
    }
   ],
   "source": [
    "dataset=pd.read_csv('Social_Network_Ads.csv')\n",
    "dataset.drop('User ID',axis=1,inplace=True)\n",
    "dataset=pd.get_dummies(dataset,drop_first=True)\n",
    "dataset"
   ]
  },
  {
   "cell_type": "code",
   "execution_count": 3,
   "id": "24d0aeaf-d91d-4bc6-9572-10d0f1bcb27e",
   "metadata": {},
   "outputs": [],
   "source": [
    "independent=dataset.drop('Purchased',axis=1)\n",
    "dependent=dataset['Purchased']"
   ]
  },
  {
   "cell_type": "code",
   "execution_count": 4,
   "id": "007c9d99-0130-410d-b7d9-695c9f850648",
   "metadata": {},
   "outputs": [],
   "source": [
    "from sklearn.model_selection import train_test_split\n",
    "X_train,X_test,Y_train,Y_test=train_test_split(independent,dependent,test_size=0.25,random_state=0)"
   ]
  },
  {
   "cell_type": "code",
   "execution_count": 5,
   "id": "c0e08178-1c34-48b5-b113-037bbe624367",
   "metadata": {},
   "outputs": [],
   "source": [
    "from sklearn.preprocessing import StandardScaler\n",
    "sc=StandardScaler()\n",
    "X_train=sc.fit_transform(X_train)\n",
    "X_test=sc.transform(X_test)"
   ]
  },
  {
   "cell_type": "code",
   "execution_count": 6,
   "id": "fa5c1186-1902-444f-ac6c-036be580a4b3",
   "metadata": {},
   "outputs": [],
   "source": [
    "def KernelPrincipleComponentAnalysis(X_train,X_test,n):\n",
    "    from sklearn.decomposition import KernelPCA\n",
    "    kpca=KernelPCA(n_components=n,kernel='rbf')\n",
    "    X_train=kpca.fit_transform(X_train)\n",
    "    X_test=kpca.transform(X_test)\n",
    "    return X_train,X_test"
   ]
  },
  {
   "cell_type": "code",
   "execution_count": 7,
   "id": "2254f209-d146-4dff-b48f-3f4e43e3a40b",
   "metadata": {},
   "outputs": [],
   "source": [
    "def r2_prediction(regressor,X_test,Y_test):\n",
    "    Y_pred=regressor.predict(X_test)\n",
    "    \n",
    "    R2=r2_score(Y_test,Y_pred)\n",
    "    return R2"
   ]
  },
  {
   "cell_type": "code",
   "execution_count": 8,
   "id": "634bffee-24f5-4899-97e7-3e8946fd06a5",
   "metadata": {},
   "outputs": [],
   "source": [
    "def linear(X_train,Y_train):\n",
    "    regressor=LinearRegression()\n",
    "    regressor.fit(X_train,Y_train)\n",
    "    \n",
    "    R2=r2_prediction(regressor,X_test,Y_test)\n",
    "    return regressor,R2\n",
    "\n",
    "def svrl(X_train,Y_train):\n",
    "    regressor=SVR(kernel='linear')\n",
    "    regressor.fit(X_train,Y_train)\n",
    "    \n",
    "    R2=r2_prediction(regressor,X_test,Y_test)\n",
    "    return regressor,R2\n",
    "\n",
    "def svrnl(X_train,Y_train):\n",
    "    regressor=SVR(kernel='rbf')\n",
    "    regressor.fit(X_train,Y_train)\n",
    "    \n",
    "    R2=r2_prediction(regressor,X_test,Y_test)\n",
    "    return regressor,R2\n",
    "\n",
    "def decisiontree(X_train,Y_train):\n",
    "    regressor=DecisionTreeRegressor(random_state=0)\n",
    "    regressor.fit(X_train,Y_train)\n",
    "    \n",
    "    R2=r2_prediction(regressor,X_test,Y_test)\n",
    "    return regressor,R2\n",
    "\n",
    "def randomforest(X_train,Y_train):\n",
    "    regressor=RandomForestRegressor(n_estimators=10,random_state=0)\n",
    "    regressor.fit(X_train,Y_train)\n",
    "    \n",
    "    R2=r2_prediction(regressor,X_test,Y_test)\n",
    "    return regressor,R2"
   ]
  },
  {
   "cell_type": "code",
   "execution_count": 9,
   "id": "8e113a5a-1cc3-4685-9bdc-02efd35773b6",
   "metadata": {},
   "outputs": [],
   "source": [
    "def kpca_table(acclin,accsvml,accsvmnl,accdt,accrf):\n",
    "    dataframe=pd.DataFrame(index=['KPCA'],columns=['Linear','SVML','SVMNL','DecisionTree','RandomForest'])\n",
    "\n",
    "    for number,index in enumerate(dataframe.index):\n",
    "        dataframe['Linear'][index]=acclin[number]\n",
    "        dataframe['SVML'][index]=accsvml[number]\n",
    "        dataframe['SVMNL'][index]=accsvmnl[number]\n",
    "        dataframe['DecisionTree'][index]=accdt[number]\n",
    "        dataframe['RandomForest'][index]=accrf[number]\n",
    "    return dataframe"
   ]
  },
  {
   "cell_type": "code",
   "execution_count": 10,
   "id": "f13b1631-0736-47b5-9f3b-1e65d40b7dd4",
   "metadata": {},
   "outputs": [],
   "source": [
    "acclin=[]\n",
    "accsvml=[]\n",
    "accsvmnl=[]\n",
    "accdt=[]\n",
    "accrf=[]"
   ]
  },
  {
   "cell_type": "code",
   "execution_count": 24,
   "id": "34141221-1add-4208-94bc-f01845e22e99",
   "metadata": {},
   "outputs": [],
   "source": [
    "X_train,X_test=KernelPrincipleComponentAnalysis(X_train,X_test,2)"
   ]
  },
  {
   "cell_type": "code",
   "execution_count": 25,
   "id": "11a5d489-1879-4ec7-9676-f33b649ebe48",
   "metadata": {},
   "outputs": [],
   "source": [
    "regressor,r2_lin=linear(X_train,Y_train)\n",
    "acclin.append(r2_lin)\n",
    "            \n",
    "regressor,r2_svrl=svrl(X_train,Y_train)\n",
    "accsvml.append(r2_svrl)\n",
    "            \n",
    "regressor,r2_svrnl=svrnl(X_train,Y_train)\n",
    "accsvmnl.append(r2_svrnl)\n",
    "            \n",
    "regressor,r2_dt=decisiontree(X_train,Y_train)\n",
    "accdt.append(r2_dt)\n",
    "            \n",
    "regressor,r2_rf=randomforest(X_train,Y_train)\n",
    "accrf.append(r2_rf)"
   ]
  },
  {
   "cell_type": "code",
   "execution_count": 26,
   "id": "3c34f2bb-8d1d-46f3-bfae-6ed8dea3d446",
   "metadata": {},
   "outputs": [
    {
     "name": "stderr",
     "output_type": "stream",
     "text": [
      "C:\\Users\\DELL\\AppData\\Local\\Temp\\ipykernel_10292\\1756114760.py:5: FutureWarning: ChainedAssignmentError: behaviour will change in pandas 3.0!\n",
      "You are setting values through chained assignment. Currently this works in certain cases, but when using Copy-on-Write (which will become the default behaviour in pandas 3.0) this will never work to update the original DataFrame or Series, because the intermediate object on which we are setting values will behave as a copy.\n",
      "A typical example is when you are setting values in a column of a DataFrame, like:\n",
      "\n",
      "df[\"col\"][row_indexer] = value\n",
      "\n",
      "Use `df.loc[row_indexer, \"col\"] = values` instead, to perform the assignment in a single step and ensure this keeps updating the original `df`.\n",
      "\n",
      "See the caveats in the documentation: https://pandas.pydata.org/pandas-docs/stable/user_guide/indexing.html#returning-a-view-versus-a-copy\n",
      "\n",
      "  dataframe['Linear'][index]=acclin[number]\n",
      "C:\\Users\\DELL\\AppData\\Local\\Temp\\ipykernel_10292\\1756114760.py:6: FutureWarning: ChainedAssignmentError: behaviour will change in pandas 3.0!\n",
      "You are setting values through chained assignment. Currently this works in certain cases, but when using Copy-on-Write (which will become the default behaviour in pandas 3.0) this will never work to update the original DataFrame or Series, because the intermediate object on which we are setting values will behave as a copy.\n",
      "A typical example is when you are setting values in a column of a DataFrame, like:\n",
      "\n",
      "df[\"col\"][row_indexer] = value\n",
      "\n",
      "Use `df.loc[row_indexer, \"col\"] = values` instead, to perform the assignment in a single step and ensure this keeps updating the original `df`.\n",
      "\n",
      "See the caveats in the documentation: https://pandas.pydata.org/pandas-docs/stable/user_guide/indexing.html#returning-a-view-versus-a-copy\n",
      "\n",
      "  dataframe['SVML'][index]=accsvml[number]\n",
      "C:\\Users\\DELL\\AppData\\Local\\Temp\\ipykernel_10292\\1756114760.py:7: FutureWarning: ChainedAssignmentError: behaviour will change in pandas 3.0!\n",
      "You are setting values through chained assignment. Currently this works in certain cases, but when using Copy-on-Write (which will become the default behaviour in pandas 3.0) this will never work to update the original DataFrame or Series, because the intermediate object on which we are setting values will behave as a copy.\n",
      "A typical example is when you are setting values in a column of a DataFrame, like:\n",
      "\n",
      "df[\"col\"][row_indexer] = value\n",
      "\n",
      "Use `df.loc[row_indexer, \"col\"] = values` instead, to perform the assignment in a single step and ensure this keeps updating the original `df`.\n",
      "\n",
      "See the caveats in the documentation: https://pandas.pydata.org/pandas-docs/stable/user_guide/indexing.html#returning-a-view-versus-a-copy\n",
      "\n",
      "  dataframe['SVMNL'][index]=accsvmnl[number]\n",
      "C:\\Users\\DELL\\AppData\\Local\\Temp\\ipykernel_10292\\1756114760.py:8: FutureWarning: ChainedAssignmentError: behaviour will change in pandas 3.0!\n",
      "You are setting values through chained assignment. Currently this works in certain cases, but when using Copy-on-Write (which will become the default behaviour in pandas 3.0) this will never work to update the original DataFrame or Series, because the intermediate object on which we are setting values will behave as a copy.\n",
      "A typical example is when you are setting values in a column of a DataFrame, like:\n",
      "\n",
      "df[\"col\"][row_indexer] = value\n",
      "\n",
      "Use `df.loc[row_indexer, \"col\"] = values` instead, to perform the assignment in a single step and ensure this keeps updating the original `df`.\n",
      "\n",
      "See the caveats in the documentation: https://pandas.pydata.org/pandas-docs/stable/user_guide/indexing.html#returning-a-view-versus-a-copy\n",
      "\n",
      "  dataframe['DecisionTree'][index]=accdt[number]\n",
      "C:\\Users\\DELL\\AppData\\Local\\Temp\\ipykernel_10292\\1756114760.py:9: FutureWarning: ChainedAssignmentError: behaviour will change in pandas 3.0!\n",
      "You are setting values through chained assignment. Currently this works in certain cases, but when using Copy-on-Write (which will become the default behaviour in pandas 3.0) this will never work to update the original DataFrame or Series, because the intermediate object on which we are setting values will behave as a copy.\n",
      "A typical example is when you are setting values in a column of a DataFrame, like:\n",
      "\n",
      "df[\"col\"][row_indexer] = value\n",
      "\n",
      "Use `df.loc[row_indexer, \"col\"] = values` instead, to perform the assignment in a single step and ensure this keeps updating the original `df`.\n",
      "\n",
      "See the caveats in the documentation: https://pandas.pydata.org/pandas-docs/stable/user_guide/indexing.html#returning-a-view-versus-a-copy\n",
      "\n",
      "  dataframe['RandomForest'][index]=accrf[number]\n"
     ]
    }
   ],
   "source": [
    "result=kpca_table(acclin,accsvml,accsvmnl,accdt,accrf)"
   ]
  },
  {
   "cell_type": "code",
   "execution_count": 15,
   "id": "3a037be3-0d7d-4e6f-b730-d1416d637ed0",
   "metadata": {},
   "outputs": [
    {
     "data": {
      "text/html": [
       "<div>\n",
       "<style scoped>\n",
       "    .dataframe tbody tr th:only-of-type {\n",
       "        vertical-align: middle;\n",
       "    }\n",
       "\n",
       "    .dataframe tbody tr th {\n",
       "        vertical-align: top;\n",
       "    }\n",
       "\n",
       "    .dataframe thead th {\n",
       "        text-align: right;\n",
       "    }\n",
       "</style>\n",
       "<table border=\"1\" class=\"dataframe\">\n",
       "  <thead>\n",
       "    <tr style=\"text-align: right;\">\n",
       "      <th></th>\n",
       "      <th>Linear</th>\n",
       "      <th>SVML</th>\n",
       "      <th>SVMNL</th>\n",
       "      <th>DecisionTree</th>\n",
       "      <th>RandomForest</th>\n",
       "    </tr>\n",
       "  </thead>\n",
       "  <tbody>\n",
       "    <tr>\n",
       "      <th>KPCA</th>\n",
       "      <td>0.606675</td>\n",
       "      <td>0.595857</td>\n",
       "      <td>0.740652</td>\n",
       "      <td>0.632353</td>\n",
       "      <td>0.675551</td>\n",
       "    </tr>\n",
       "  </tbody>\n",
       "</table>\n",
       "</div>"
      ],
      "text/plain": [
       "        Linear      SVML     SVMNL DecisionTree RandomForest\n",
       "KPCA  0.606675  0.595857  0.740652     0.632353     0.675551"
      ]
     },
     "execution_count": 15,
     "metadata": {},
     "output_type": "execute_result"
    }
   ],
   "source": [
    "result\n",
    "#5"
   ]
  },
  {
   "cell_type": "code",
   "execution_count": 19,
   "id": "e0f49d93-a96d-4089-99d1-d6fbcd960889",
   "metadata": {},
   "outputs": [
    {
     "data": {
      "text/html": [
       "<div>\n",
       "<style scoped>\n",
       "    .dataframe tbody tr th:only-of-type {\n",
       "        vertical-align: middle;\n",
       "    }\n",
       "\n",
       "    .dataframe tbody tr th {\n",
       "        vertical-align: top;\n",
       "    }\n",
       "\n",
       "    .dataframe thead th {\n",
       "        text-align: right;\n",
       "    }\n",
       "</style>\n",
       "<table border=\"1\" class=\"dataframe\">\n",
       "  <thead>\n",
       "    <tr style=\"text-align: right;\">\n",
       "      <th></th>\n",
       "      <th>Linear</th>\n",
       "      <th>SVML</th>\n",
       "      <th>SVMNL</th>\n",
       "      <th>DecisionTree</th>\n",
       "      <th>RandomForest</th>\n",
       "    </tr>\n",
       "  </thead>\n",
       "  <tbody>\n",
       "    <tr>\n",
       "      <th>KPCA</th>\n",
       "      <td>0.606675</td>\n",
       "      <td>0.595857</td>\n",
       "      <td>0.740652</td>\n",
       "      <td>0.632353</td>\n",
       "      <td>0.675551</td>\n",
       "    </tr>\n",
       "  </tbody>\n",
       "</table>\n",
       "</div>"
      ],
      "text/plain": [
       "        Linear      SVML     SVMNL DecisionTree RandomForest\n",
       "KPCA  0.606675  0.595857  0.740652     0.632353     0.675551"
      ]
     },
     "execution_count": 19,
     "metadata": {},
     "output_type": "execute_result"
    }
   ],
   "source": [
    "result\n",
    "#4"
   ]
  },
  {
   "cell_type": "code",
   "execution_count": 23,
   "id": "d850b0de-1e02-47f5-98d5-93a5d6b47dd3",
   "metadata": {},
   "outputs": [
    {
     "data": {
      "text/html": [
       "<div>\n",
       "<style scoped>\n",
       "    .dataframe tbody tr th:only-of-type {\n",
       "        vertical-align: middle;\n",
       "    }\n",
       "\n",
       "    .dataframe tbody tr th {\n",
       "        vertical-align: top;\n",
       "    }\n",
       "\n",
       "    .dataframe thead th {\n",
       "        text-align: right;\n",
       "    }\n",
       "</style>\n",
       "<table border=\"1\" class=\"dataframe\">\n",
       "  <thead>\n",
       "    <tr style=\"text-align: right;\">\n",
       "      <th></th>\n",
       "      <th>Linear</th>\n",
       "      <th>SVML</th>\n",
       "      <th>SVMNL</th>\n",
       "      <th>DecisionTree</th>\n",
       "      <th>RandomForest</th>\n",
       "    </tr>\n",
       "  </thead>\n",
       "  <tbody>\n",
       "    <tr>\n",
       "      <th>KPCA</th>\n",
       "      <td>0.606675</td>\n",
       "      <td>0.595857</td>\n",
       "      <td>0.740652</td>\n",
       "      <td>0.632353</td>\n",
       "      <td>0.675551</td>\n",
       "    </tr>\n",
       "  </tbody>\n",
       "</table>\n",
       "</div>"
      ],
      "text/plain": [
       "        Linear      SVML     SVMNL DecisionTree RandomForest\n",
       "KPCA  0.606675  0.595857  0.740652     0.632353     0.675551"
      ]
     },
     "execution_count": 23,
     "metadata": {},
     "output_type": "execute_result"
    }
   ],
   "source": [
    "result\n",
    "#3"
   ]
  },
  {
   "cell_type": "code",
   "execution_count": 27,
   "id": "e9094f5c-8ae5-4b8e-a5df-e9d48342eccd",
   "metadata": {},
   "outputs": [
    {
     "data": {
      "text/html": [
       "<div>\n",
       "<style scoped>\n",
       "    .dataframe tbody tr th:only-of-type {\n",
       "        vertical-align: middle;\n",
       "    }\n",
       "\n",
       "    .dataframe tbody tr th {\n",
       "        vertical-align: top;\n",
       "    }\n",
       "\n",
       "    .dataframe thead th {\n",
       "        text-align: right;\n",
       "    }\n",
       "</style>\n",
       "<table border=\"1\" class=\"dataframe\">\n",
       "  <thead>\n",
       "    <tr style=\"text-align: right;\">\n",
       "      <th></th>\n",
       "      <th>Linear</th>\n",
       "      <th>SVML</th>\n",
       "      <th>SVMNL</th>\n",
       "      <th>DecisionTree</th>\n",
       "      <th>RandomForest</th>\n",
       "    </tr>\n",
       "  </thead>\n",
       "  <tbody>\n",
       "    <tr>\n",
       "      <th>KPCA</th>\n",
       "      <td>0.606675</td>\n",
       "      <td>0.595857</td>\n",
       "      <td>0.740652</td>\n",
       "      <td>0.632353</td>\n",
       "      <td>0.675551</td>\n",
       "    </tr>\n",
       "  </tbody>\n",
       "</table>\n",
       "</div>"
      ],
      "text/plain": [
       "        Linear      SVML     SVMNL DecisionTree RandomForest\n",
       "KPCA  0.606675  0.595857  0.740652     0.632353     0.675551"
      ]
     },
     "execution_count": 27,
     "metadata": {},
     "output_type": "execute_result"
    }
   ],
   "source": [
    "result\n",
    "#2"
   ]
  }
 ],
 "metadata": {
  "kernelspec": {
   "display_name": "Python 3 (ipykernel)",
   "language": "python",
   "name": "python3"
  },
  "language_info": {
   "codemirror_mode": {
    "name": "ipython",
    "version": 3
   },
   "file_extension": ".py",
   "mimetype": "text/x-python",
   "name": "python",
   "nbconvert_exporter": "python",
   "pygments_lexer": "ipython3",
   "version": "3.12.7"
  }
 },
 "nbformat": 4,
 "nbformat_minor": 5
}
